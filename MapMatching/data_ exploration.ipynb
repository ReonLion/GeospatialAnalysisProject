{
 "cells": [
  {
   "cell_type": "code",
   "execution_count": 1,
   "metadata": {},
   "outputs": [],
   "source": [
    "import shapely\n",
    "import geopandas as gpd"
   ]
  },
  {
   "cell_type": "code",
   "execution_count": 2,
   "metadata": {},
   "outputs": [
    {
     "name": "stdout",
     "output_type": "stream",
     "text": [
      "<class 'geopandas.geodataframe.GeoDataFrame'>\n",
      "RangeIndex: 1376 entries, 0 to 1375\n",
      "Data columns (total 77 columns):\n",
      "id                  1376 non-null object\n",
      "admin_level         6 non-null float64\n",
      "boundary            6 non-null object\n",
      "name                299 non-null object\n",
      "name:en             14 non-null object\n",
      "name:vi             4 non-null object\n",
      "name:zh             3 non-null object\n",
      "name:zh_pinyin      2 non-null object\n",
      "type                6 non-null object\n",
      "wikidata            1 non-null object\n",
      "wikipedia           1 non-null object\n",
      "natural             6 non-null object\n",
      "source              9 non-null object\n",
      "landuse             32 non-null object\n",
      "building            791 non-null object\n",
      "office              3 non-null object\n",
      "addr:housenumber    9 non-null object\n",
      "addr:street         14 non-null object\n",
      "addr:city           6 non-null object\n",
      "addr:postcode       7 non-null float64\n",
      "amenity             51 non-null object\n",
      "emergency           2 non-null object\n",
      "operator            4 non-null object\n",
      "building:levels     32 non-null object\n",
      "leisure             87 non-null object\n",
      "shop                8 non-null object\n",
      "water               3 non-null object\n",
      "area                17 non-null object\n",
      "sport               25 non-null object\n",
      "barrier             3 non-null object\n",
      "parking             2 non-null object\n",
      "addr:district       2 non-null object\n",
      "addr:province       2 non-null object\n",
      "smoking             1 non-null object\n",
      "description         7 non-null object\n",
      "place               9 non-null object\n",
      "highway             350 non-null object\n",
      "lanes               25 non-null object\n",
      "lit                 14 non-null object\n",
      "oneway              80 non-null object\n",
      "surface             8 non-null object\n",
      "gauge               4 non-null float64\n",
      "railway             7 non-null object\n",
      "service             3 non-null object\n",
      "foot                4 non-null object\n",
      "motorroad           3 non-null object\n",
      "horse               2 non-null object\n",
      "access              3 non-null object\n",
      "bicycle             2 non-null object\n",
      "embankment          1 non-null object\n",
      "motor_vehicle       4 non-null object\n",
      "bridge              32 non-null object\n",
      "layer               35 non-null float64\n",
      "tunnel              6 non-null object\n",
      "maxspeed            6 non-null float64\n",
      "crossing            21 non-null object\n",
      "footway             13 non-null object\n",
      "colour              1 non-null object\n",
      "electrified         1 non-null object\n",
      "bus                 2 non-null object\n",
      "construction        3 non-null object\n",
      "gns:ADM1            1 non-null float64\n",
      "gns:DSG             1 non-null object\n",
      "gns:UFI             1 non-null float64\n",
      "gns:UNI             1 non-null float64\n",
      "power               1 non-null object\n",
      "name:ja             2 non-null object\n",
      "tourism             2 non-null object\n",
      "diaper              1 non-null object\n",
      "toilets:disposal    1 non-null object\n",
      "unisex              1 non-null object\n",
      "opening_hours       5 non-null object\n",
      "cuisine             3 non-null object\n",
      "internet_access     3 non-null object\n",
      "public_transport    3 non-null object\n",
      "station             1 non-null object\n",
      "geometry            1376 non-null object\n",
      "dtypes: float64(8), object(69)\n",
      "memory usage: 827.8+ KB\n"
     ]
    }
   ],
   "source": [
    "data = gpd.read_file('./GeoJsonFiles/xiongchugaojia.geojson')\n",
    "data.info()"
   ]
  },
  {
   "cell_type": "markdown",
   "metadata": {},
   "source": [
    "### 概览数据"
   ]
  },
  {
   "cell_type": "code",
   "execution_count": 3,
   "metadata": {},
   "outputs": [
    {
     "data": {
      "text/html": [
       "<div>\n",
       "<style scoped>\n",
       "    .dataframe tbody tr th:only-of-type {\n",
       "        vertical-align: middle;\n",
       "    }\n",
       "\n",
       "    .dataframe tbody tr th {\n",
       "        vertical-align: top;\n",
       "    }\n",
       "\n",
       "    .dataframe thead th {\n",
       "        text-align: right;\n",
       "    }\n",
       "</style>\n",
       "<table border=\"1\" class=\"dataframe\">\n",
       "  <thead>\n",
       "    <tr style=\"text-align: right;\">\n",
       "      <th></th>\n",
       "      <th>id</th>\n",
       "      <th>admin_level</th>\n",
       "      <th>boundary</th>\n",
       "      <th>name</th>\n",
       "      <th>name:en</th>\n",
       "      <th>name:vi</th>\n",
       "      <th>name:zh</th>\n",
       "      <th>name:zh_pinyin</th>\n",
       "      <th>type</th>\n",
       "      <th>wikidata</th>\n",
       "      <th>...</th>\n",
       "      <th>tourism</th>\n",
       "      <th>diaper</th>\n",
       "      <th>toilets:disposal</th>\n",
       "      <th>unisex</th>\n",
       "      <th>opening_hours</th>\n",
       "      <th>cuisine</th>\n",
       "      <th>internet_access</th>\n",
       "      <th>public_transport</th>\n",
       "      <th>station</th>\n",
       "      <th>geometry</th>\n",
       "    </tr>\n",
       "  </thead>\n",
       "  <tbody>\n",
       "    <tr>\n",
       "      <th>0</th>\n",
       "      <td>relation/3076297</td>\n",
       "      <td>6.0</td>\n",
       "      <td>administrative</td>\n",
       "      <td>武昌区 (Wuchang)</td>\n",
       "      <td>Wuchang District</td>\n",
       "      <td>Vũ Xương</td>\n",
       "      <td>武昌区</td>\n",
       "      <td>Wǔchāng Qū</td>\n",
       "      <td>boundary</td>\n",
       "      <td>Q1014420</td>\n",
       "      <td>...</td>\n",
       "      <td>None</td>\n",
       "      <td>None</td>\n",
       "      <td>None</td>\n",
       "      <td>None</td>\n",
       "      <td>None</td>\n",
       "      <td>None</td>\n",
       "      <td>None</td>\n",
       "      <td>None</td>\n",
       "      <td>None</td>\n",
       "      <td>POLYGON ((114.341212 30.5327016, 114.3397918 3...</td>\n",
       "    </tr>\n",
       "    <tr>\n",
       "      <th>1</th>\n",
       "      <td>relation/3080399</td>\n",
       "      <td>6.0</td>\n",
       "      <td>administrative</td>\n",
       "      <td>洪山区 (Hongshan)</td>\n",
       "      <td>Hongshan District</td>\n",
       "      <td>Hồng Sơn</td>\n",
       "      <td>洪山区</td>\n",
       "      <td>None</td>\n",
       "      <td>boundary</td>\n",
       "      <td>None</td>\n",
       "      <td>...</td>\n",
       "      <td>None</td>\n",
       "      <td>None</td>\n",
       "      <td>None</td>\n",
       "      <td>None</td>\n",
       "      <td>None</td>\n",
       "      <td>None</td>\n",
       "      <td>None</td>\n",
       "      <td>None</td>\n",
       "      <td>None</td>\n",
       "      <td>POLYGON ((114.341212 30.5327016, 114.3397918 3...</td>\n",
       "    </tr>\n",
       "    <tr>\n",
       "      <th>2</th>\n",
       "      <td>relation/3112011</td>\n",
       "      <td>8.0</td>\n",
       "      <td>administrative</td>\n",
       "      <td>中南路街道</td>\n",
       "      <td>None</td>\n",
       "      <td>None</td>\n",
       "      <td>None</td>\n",
       "      <td>None</td>\n",
       "      <td>boundary</td>\n",
       "      <td>None</td>\n",
       "      <td>...</td>\n",
       "      <td>None</td>\n",
       "      <td>None</td>\n",
       "      <td>None</td>\n",
       "      <td>None</td>\n",
       "      <td>None</td>\n",
       "      <td>None</td>\n",
       "      <td>None</td>\n",
       "      <td>None</td>\n",
       "      <td>None</td>\n",
       "      <td>POLYGON ((114.341212 30.5327016, 114.3397918 3...</td>\n",
       "    </tr>\n",
       "    <tr>\n",
       "      <th>3</th>\n",
       "      <td>relation/3173166</td>\n",
       "      <td>8.0</td>\n",
       "      <td>administrative</td>\n",
       "      <td>卓刀泉街道</td>\n",
       "      <td>None</td>\n",
       "      <td>None</td>\n",
       "      <td>None</td>\n",
       "      <td>None</td>\n",
       "      <td>boundary</td>\n",
       "      <td>None</td>\n",
       "      <td>...</td>\n",
       "      <td>None</td>\n",
       "      <td>None</td>\n",
       "      <td>None</td>\n",
       "      <td>None</td>\n",
       "      <td>None</td>\n",
       "      <td>None</td>\n",
       "      <td>None</td>\n",
       "      <td>None</td>\n",
       "      <td>None</td>\n",
       "      <td>POLYGON ((114.3657561 30.4949179, 114.3656497 ...</td>\n",
       "    </tr>\n",
       "    <tr>\n",
       "      <th>4</th>\n",
       "      <td>relation/3176352</td>\n",
       "      <td>8.0</td>\n",
       "      <td>administrative</td>\n",
       "      <td>珞南街道</td>\n",
       "      <td>None</td>\n",
       "      <td>None</td>\n",
       "      <td>None</td>\n",
       "      <td>None</td>\n",
       "      <td>boundary</td>\n",
       "      <td>None</td>\n",
       "      <td>...</td>\n",
       "      <td>None</td>\n",
       "      <td>None</td>\n",
       "      <td>None</td>\n",
       "      <td>None</td>\n",
       "      <td>None</td>\n",
       "      <td>None</td>\n",
       "      <td>None</td>\n",
       "      <td>None</td>\n",
       "      <td>None</td>\n",
       "      <td>(POLYGON ((114.3657561 30.4949179, 114.3656497...</td>\n",
       "    </tr>\n",
       "  </tbody>\n",
       "</table>\n",
       "<p>5 rows × 77 columns</p>\n",
       "</div>"
      ],
      "text/plain": [
       "                 id  admin_level        boundary            name  \\\n",
       "0  relation/3076297          6.0  administrative   武昌区 (Wuchang)   \n",
       "1  relation/3080399          6.0  administrative  洪山区 (Hongshan)   \n",
       "2  relation/3112011          8.0  administrative           中南路街道   \n",
       "3  relation/3173166          8.0  administrative           卓刀泉街道   \n",
       "4  relation/3176352          8.0  administrative            珞南街道   \n",
       "\n",
       "             name:en   name:vi name:zh name:zh_pinyin      type  wikidata  \\\n",
       "0   Wuchang District  Vũ Xương     武昌区     Wǔchāng Qū  boundary  Q1014420   \n",
       "1  Hongshan District  Hồng Sơn     洪山区           None  boundary      None   \n",
       "2               None      None    None           None  boundary      None   \n",
       "3               None      None    None           None  boundary      None   \n",
       "4               None      None    None           None  boundary      None   \n",
       "\n",
       "                         ...                         tourism diaper  \\\n",
       "0                        ...                            None   None   \n",
       "1                        ...                            None   None   \n",
       "2                        ...                            None   None   \n",
       "3                        ...                            None   None   \n",
       "4                        ...                            None   None   \n",
       "\n",
       "  toilets:disposal unisex opening_hours cuisine internet_access  \\\n",
       "0             None   None          None    None            None   \n",
       "1             None   None          None    None            None   \n",
       "2             None   None          None    None            None   \n",
       "3             None   None          None    None            None   \n",
       "4             None   None          None    None            None   \n",
       "\n",
       "  public_transport station                                           geometry  \n",
       "0             None    None  POLYGON ((114.341212 30.5327016, 114.3397918 3...  \n",
       "1             None    None  POLYGON ((114.341212 30.5327016, 114.3397918 3...  \n",
       "2             None    None  POLYGON ((114.341212 30.5327016, 114.3397918 3...  \n",
       "3             None    None  POLYGON ((114.3657561 30.4949179, 114.3656497 ...  \n",
       "4             None    None  (POLYGON ((114.3657561 30.4949179, 114.3656497...  \n",
       "\n",
       "[5 rows x 77 columns]"
      ]
     },
     "execution_count": 3,
     "metadata": {},
     "output_type": "execute_result"
    }
   ],
   "source": [
    "data.head(5)"
   ]
  },
  {
   "cell_type": "markdown",
   "metadata": {},
   "source": [
    "### 用csv方便概览详细的数据"
   ]
  },
  {
   "cell_type": "code",
   "execution_count": 4,
   "metadata": {},
   "outputs": [],
   "source": [
    "#data.to_csv('./temp/quick_look.csv')"
   ]
  },
  {
   "cell_type": "markdown",
   "metadata": {},
   "source": [
    "### 查看id是否有重复"
   ]
  },
  {
   "cell_type": "code",
   "execution_count": 5,
   "metadata": {},
   "outputs": [
    {
     "data": {
      "text/plain": [
       "True"
      ]
     },
     "execution_count": 5,
     "metadata": {},
     "output_type": "execute_result"
    }
   ],
   "source": [
    "data.id.is_unique"
   ]
  },
  {
   "cell_type": "markdown",
   "metadata": {},
   "source": [
    "### 道路数据位于'geometry'属性中，是LineString类的对象"
   ]
  },
  {
   "cell_type": "code",
   "execution_count": 6,
   "metadata": {},
   "outputs": [
    {
     "data": {
      "text/plain": [
       "shapely.geometry.linestring.LineString"
      ]
     },
     "execution_count": 6,
     "metadata": {},
     "output_type": "execute_result"
    }
   ],
   "source": [
    "type(data.geometry[1000])"
   ]
  },
  {
   "cell_type": "markdown",
   "metadata": {},
   "source": [
    "### 保留'id', 'highway', 'lanes', 'geometry'"
   ]
  },
  {
   "cell_type": "code",
   "execution_count": 7,
   "metadata": {},
   "outputs": [
    {
     "name": "stdout",
     "output_type": "stream",
     "text": [
      "<class 'geopandas.geodataframe.GeoDataFrame'>\n",
      "RangeIndex: 1376 entries, 0 to 1375\n",
      "Data columns (total 5 columns):\n",
      "id          1376 non-null object\n",
      "name        299 non-null object\n",
      "highway     350 non-null object\n",
      "lanes       25 non-null object\n",
      "geometry    1376 non-null object\n",
      "dtypes: object(5)\n",
      "memory usage: 53.8+ KB\n"
     ]
    }
   ],
   "source": [
    "keep_attrs = ['id', 'name', 'highway', 'lanes', 'geometry']\n",
    "geo_data = data[keep_attrs]\n",
    "geo_data.info()"
   ]
  },
  {
   "cell_type": "code",
   "execution_count": 8,
   "metadata": {},
   "outputs": [],
   "source": [
    "geo_data.to_csv('./temp/geo_data.csv')"
   ]
  },
  {
   "cell_type": "code",
   "execution_count": 9,
   "metadata": {},
   "outputs": [
    {
     "data": {
      "text/plain": [
       "dtype('O')"
      ]
     },
     "execution_count": 9,
     "metadata": {},
     "output_type": "execute_result"
    }
   ],
   "source": [
    "geo_data.geometry.dtypes"
   ]
  },
  {
   "cell_type": "code",
   "execution_count": null,
   "metadata": {},
   "outputs": [],
   "source": []
  }
 ],
 "metadata": {
  "kernelspec": {
   "display_name": "Python 3",
   "language": "python",
   "name": "python3"
  },
  "language_info": {
   "codemirror_mode": {
    "name": "ipython",
    "version": 3
   },
   "file_extension": ".py",
   "mimetype": "text/x-python",
   "name": "python",
   "nbconvert_exporter": "python",
   "pygments_lexer": "ipython3",
   "version": "3.6.7"
  }
 },
 "nbformat": 4,
 "nbformat_minor": 2
}
